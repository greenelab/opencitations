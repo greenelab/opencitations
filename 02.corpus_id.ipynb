{
 "cells": [
  {
   "cell_type": "markdown",
   "metadata": {},
   "source": [
    "# Extract data from corpus_id JSON files"
   ]
  },
  {
   "cell_type": "code",
   "execution_count": 1,
   "metadata": {},
   "outputs": [],
   "source": [
    "import pathlib\n",
    "import json\n",
    "import csv\n",
    "import lzma"
   ]
  },
  {
   "cell_type": "code",
   "execution_count": 2,
   "metadata": {},
   "outputs": [],
   "source": [
    "directory = pathlib.Path('download/2017-07-25-corpus_id/')\n",
    "paths = directory.glob('*/*.json')\n",
    "paths = sorted(paths, key=lambda path: int(path.stem))"
   ]
  },
  {
   "cell_type": "code",
   "execution_count": 3,
   "metadata": {},
   "outputs": [],
   "source": [
    "tsv_path = pathlib.Path('download/2017-07-25-corpus_id.tsv.xz')\n",
    "with lzma.open(tsv_path, 'wt') as write_file:\n",
    "    fieldnames = 'iri', 'type', 'id'\n",
    "    writer = csv.DictWriter(write_file, delimiter='\\t', fieldnames=fieldnames, extrasaction='ignore')\n",
    "    writer.writeheader()\n",
    "    for path in paths:\n",
    "        with path.open() as read_file:\n",
    "            part = json.load(read_file)\n",
    "        writer.writerows(part['@graph'])"
   ]
  }
 ],
 "metadata": {
  "kernelspec": {
   "display_name": "Python [conda env:opencitations]",
   "language": "python",
   "name": "conda-env-opencitations-py"
  },
  "language_info": {
   "codemirror_mode": {
    "name": "ipython",
    "version": 3
   },
   "file_extension": ".py",
   "mimetype": "text/x-python",
   "name": "python",
   "nbconvert_exporter": "python",
   "pygments_lexer": "ipython3",
   "version": "3.6.2"
  }
 },
 "nbformat": 4,
 "nbformat_minor": 2
}
