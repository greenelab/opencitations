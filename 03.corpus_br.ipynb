{
 "cells": [
  {
   "cell_type": "markdown",
   "metadata": {},
   "source": [
    "# Extract citations and identifiers from `corpus_br` JSON files"
   ]
  },
  {
   "cell_type": "code",
   "execution_count": 1,
   "metadata": {
    "collapsed": true
   },
   "outputs": [],
   "source": [
    "import pathlib\n",
    "import json\n",
    "import csv\n",
    "import lzma\n",
    "\n",
    "import pandas"
   ]
  },
  {
   "cell_type": "markdown",
   "metadata": {},
   "source": [
    "## Read and process `corpus_br` (bibliographic resources)"
   ]
  },
  {
   "cell_type": "code",
   "execution_count": 2,
   "metadata": {},
   "outputs": [],
   "source": [
    "directory = pathlib.Path('download/2017-07-25-corpus_br/')\n",
    "paths = directory.glob('*/*.json')\n",
    "paths = sorted(paths, key=lambda path: int(path.stem))"
   ]
  },
  {
   "cell_type": "code",
   "execution_count": 3,
   "metadata": {
    "collapsed": true
   },
   "outputs": [],
   "source": [
    "def force_list(iterable):\n",
    "    if not isinstance(iterable, list):\n",
    "        iterable = [iterable]\n",
    "    return iterable"
   ]
  },
  {
   "cell_type": "code",
   "execution_count": 4,
   "metadata": {},
   "outputs": [],
   "source": [
    "citation_rows = list()\n",
    "identier_rows = list()\n",
    "for path in paths:\n",
    "    with path.open() as read_file:\n",
    "        part = json.load(read_file)\n",
    "    for br in part['@graph']:\n",
    "        iri = br['iri']\n",
    "        identifiers = br.get('identifier', [])\n",
    "        for identifier in force_list(identifiers):\n",
    "            identier_rows.append((iri, identifier))\n",
    "        citations = br.get('citation', [])\n",
    "        for citation in force_list(citations):\n",
    "            citation_rows.append((iri, citation))\n",
    "\n",
    "citation_df = pandas.DataFrame(citation_rows, columns=['source', 'target'])\n",
    "identifier_df = pandas.DataFrame(identier_rows, columns=['br_iri', 'id_iri'])"
   ]
  },
  {
   "cell_type": "markdown",
   "metadata": {},
   "source": [
    "## Process the citations"
   ]
  },
  {
   "cell_type": "code",
   "execution_count": 5,
   "metadata": {},
   "outputs": [
    {
     "data": {
      "text/html": [
       "<div>\n",
       "<style>\n",
       "    .dataframe thead tr:only-child th {\n",
       "        text-align: right;\n",
       "    }\n",
       "\n",
       "    .dataframe thead th {\n",
       "        text-align: left;\n",
       "    }\n",
       "\n",
       "    .dataframe tbody tr th {\n",
       "        vertical-align: top;\n",
       "    }\n",
       "</style>\n",
       "<table border=\"1\" class=\"dataframe\">\n",
       "  <thead>\n",
       "    <tr style=\"text-align: right;\">\n",
       "      <th></th>\n",
       "      <th>source</th>\n",
       "      <th>target</th>\n",
       "    </tr>\n",
       "  </thead>\n",
       "  <tbody>\n",
       "    <tr>\n",
       "      <th>298</th>\n",
       "      <td>gbr:1</td>\n",
       "      <td>gbr:5</td>\n",
       "    </tr>\n",
       "    <tr>\n",
       "      <th>199</th>\n",
       "      <td>gbr:1</td>\n",
       "      <td>gbr:6</td>\n",
       "    </tr>\n",
       "    <tr>\n",
       "      <th>246</th>\n",
       "      <td>gbr:1</td>\n",
       "      <td>gbr:10</td>\n",
       "    </tr>\n",
       "    <tr>\n",
       "      <th>288</th>\n",
       "      <td>gbr:1</td>\n",
       "      <td>gbr:11</td>\n",
       "    </tr>\n",
       "  </tbody>\n",
       "</table>\n",
       "</div>"
      ],
      "text/plain": [
       "    source  target\n",
       "298  gbr:1   gbr:5\n",
       "199  gbr:1   gbr:6\n",
       "246  gbr:1  gbr:10\n",
       "288  gbr:1  gbr:11"
      ]
     },
     "execution_count": 5,
     "metadata": {},
     "output_type": "execute_result"
    }
   ],
   "source": [
    "# Sort source, target iri's by int rather than string order\n",
    "index = [x[2] for x in sorted(zip(\n",
    "    citation_df.source.str.slice(4).astype(int),\n",
    "    citation_df.target.str.slice(4).astype(int),\n",
    "    citation_df.index,\n",
    "))]\n",
    "citation_df = citation_df.loc[index]\n",
    "citation_df.head(4)"
   ]
  },
  {
   "cell_type": "code",
   "execution_count": 6,
   "metadata": {},
   "outputs": [
    {
     "data": {
      "text/plain": [
       "8652530"
      ]
     },
     "execution_count": 6,
     "metadata": {},
     "output_type": "execute_result"
    }
   ],
   "source": [
    "path = pathlib.Path('data/citations.tsv.xz')\n",
    "citation_df.to_csv(path, compression='xz', index=False, sep='\\t')\n",
    "len(citation_df)"
   ]
  },
  {
   "cell_type": "code",
   "execution_count": 7,
   "metadata": {},
   "outputs": [
    {
     "name": "stdout",
     "output_type": "stream",
     "text": [
      "8,652,530 total citations\n",
      "203,302 articles with outgoing citations\n",
      "4,972,892 articles with incoming citations\n",
      "895 article self-citations\n"
     ]
    }
   ],
   "source": [
    "print(f'''\n",
    "{len(citation_df):,} total citations\n",
    "{citation_df.source.nunique():,} articles with outgoing citations\n",
    "{citation_df.target.nunique():,} articles with incoming citations\n",
    "{len(citation_df.query(\"source == target\")):,} article self-citations\n",
    "'''.strip())"
   ]
  },
  {
   "cell_type": "markdown",
   "metadata": {},
   "source": [
    "## Process the identifiers"
   ]
  },
  {
   "cell_type": "code",
   "execution_count": 8,
   "metadata": {},
   "outputs": [
    {
     "data": {
      "text/html": [
       "<div>\n",
       "<style>\n",
       "    .dataframe thead tr:only-child th {\n",
       "        text-align: right;\n",
       "    }\n",
       "\n",
       "    .dataframe thead th {\n",
       "        text-align: left;\n",
       "    }\n",
       "\n",
       "    .dataframe tbody tr th {\n",
       "        vertical-align: top;\n",
       "    }\n",
       "</style>\n",
       "<table border=\"1\" class=\"dataframe\">\n",
       "  <thead>\n",
       "    <tr style=\"text-align: right;\">\n",
       "      <th></th>\n",
       "      <th>br_iri</th>\n",
       "      <th>type</th>\n",
       "      <th>id</th>\n",
       "    </tr>\n",
       "  </thead>\n",
       "  <tbody>\n",
       "    <tr>\n",
       "      <th>1030</th>\n",
       "      <td>gbr:1</td>\n",
       "      <td>doi</td>\n",
       "      <td>10.1097/igc.0000000000000609</td>\n",
       "    </tr>\n",
       "    <tr>\n",
       "      <th>1032</th>\n",
       "      <td>gbr:1</td>\n",
       "      <td>pmcid</td>\n",
       "      <td>PMC4679344</td>\n",
       "    </tr>\n",
       "    <tr>\n",
       "      <th>1029</th>\n",
       "      <td>gbr:1</td>\n",
       "      <td>pmid</td>\n",
       "      <td>26645990</td>\n",
       "    </tr>\n",
       "  </tbody>\n",
       "</table>\n",
       "</div>"
      ],
      "text/plain": [
       "     br_iri   type                            id\n",
       "1030  gbr:1    doi  10.1097/igc.0000000000000609\n",
       "1032  gbr:1  pmcid                    PMC4679344\n",
       "1029  gbr:1   pmid                      26645990"
      ]
     },
     "execution_count": 8,
     "metadata": {},
     "output_type": "execute_result"
    }
   ],
   "source": [
    "id_merged_df = identifier_df.merge(\n",
    "    pandas.read_table(pathlib.Path('download/2017-07-25-corpus_id.tsv.xz'), compression='xz')\n",
    "    .rename(columns={'iri': 'id_iri'})\n",
    ").drop('id_iri', axis='columns')\n",
    "\n",
    "# Sort by int rather than string\n",
    "index = [x[2] for x in sorted(zip(\n",
    "    id_merged_df.br_iri.str.slice(4).astype(int),\n",
    "    id_merged_df['type'],\n",
    "    id_merged_df.index,\n",
    "))]\n",
    "id_merged_df = id_merged_df.loc[index]\n",
    "\n",
    "id_merged_df.head(3)"
   ]
  },
  {
   "cell_type": "code",
   "execution_count": 9,
   "metadata": {},
   "outputs": [
    {
     "data": {
      "text/plain": [
       "13182983"
      ]
     },
     "execution_count": 9,
     "metadata": {},
     "output_type": "execute_result"
    }
   ],
   "source": [
    "path = pathlib.Path('data/identifiers.tsv.xz')\n",
    "id_merged_df.to_csv(path, compression='xz', index=False, sep='\\t')\n",
    "len(id_merged_df)"
   ]
  }
 ],
 "metadata": {
  "anaconda-cloud": {},
  "kernelspec": {
   "display_name": "Python [conda env:opencitations]",
   "language": "python",
   "name": "conda-env-opencitations-py"
  },
  "language_info": {
   "codemirror_mode": {
    "name": "ipython",
    "version": 3
   },
   "file_extension": ".py",
   "mimetype": "text/x-python",
   "name": "python",
   "nbconvert_exporter": "python",
   "pygments_lexer": "ipython3",
   "version": "3.6.2"
  }
 },
 "nbformat": 4,
 "nbformat_minor": 2
}
