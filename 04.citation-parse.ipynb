{
 "cells": [
  {
   "cell_type": "markdown",
   "metadata": {},
   "source": [
    "# Export XML to TSV"
   ]
  },
  {
   "cell_type": "code",
   "execution_count": 1,
   "metadata": {
    "collapsed": true
   },
   "outputs": [],
   "source": [
    "import csv\n",
    "import pathlib\n",
    "import xml.etree.ElementTree\n",
    "import lzma\n",
    "import re"
   ]
  },
  {
   "cell_type": "code",
   "execution_count": 2,
   "metadata": {},
   "outputs": [],
   "source": [
    "pattern = re.compile(r'https://w3id\\.org/oc/corpus/br/([0-9]+)')\n",
    "\n",
    "def br_uri_to_id(uri):\n",
    "    \"\"\"\n",
    "    https://w3id.org/oc/corpus/br/922634 to 922634\n",
    "    \"\"\"\n",
    "    match = pattern.search(uri)\n",
    "    return match.group(1)"
   ]
  },
  {
   "cell_type": "code",
   "execution_count": 3,
   "metadata": {},
   "outputs": [
    {
     "ename": "ParseError",
     "evalue": "no element found: line 8951905, column 26 (<string>)",
     "output_type": "error",
     "traceback": [
      "Traceback \u001b[0;36m(most recent call last)\u001b[0m:\n",
      "  File \u001b[1;32m\"/home/dhimmel/anaconda3/envs/opencitations/lib/python3.6/site-packages/IPython/core/interactiveshell.py\"\u001b[0m, line \u001b[1;32m2862\u001b[0m, in \u001b[1;35mrun_code\u001b[0m\n    exec(code_obj, self.user_global_ns, self.user_ns)\n",
      "  File \u001b[1;32m\"<ipython-input-3-9ce099e6c2cc>\"\u001b[0m, line \u001b[1;32m9\u001b[0m, in \u001b[1;35m<module>\u001b[0m\n    for event, elem in parser:\n",
      "  File \u001b[1;32m\"/home/dhimmel/anaconda3/envs/opencitations/lib/python3.6/xml/etree/ElementTree.py\"\u001b[0m, line \u001b[1;32m1227\u001b[0m, in \u001b[1;35miterator\u001b[0m\n    root = pullparser._close_and_return_root()\n",
      "\u001b[0;36m  File \u001b[0;32m\"/home/dhimmel/anaconda3/envs/opencitations/lib/python3.6/xml/etree/ElementTree.py\"\u001b[0;36m, line \u001b[0;32m1274\u001b[0;36m, in \u001b[0;35m_close_and_return_root\u001b[0;36m\u001b[0m\n\u001b[0;31m    root = self._parser.close()\u001b[0m\n",
      "\u001b[0;36m  File \u001b[0;32m\"<string>\"\u001b[0;36m, line \u001b[0;32munknown\u001b[0m\n\u001b[0;31mParseError\u001b[0m\u001b[0;31m:\u001b[0m no element found: line 8951905, column 26\n"
     ]
    }
   ],
   "source": [
    "xml_path = pathlib.Path('data/cites.xml')\n",
    "tsv_path = pathlib.Path('data/cites.tsv.xz')\n",
    "\n",
    "with xml_path.open() as read_file, lzma.open(tsv_path, 'wt') as write_file:\n",
    "    parser = xml.etree.ElementTree.iterparse(read_file)\n",
    "    writer = csv.writer(write_file, delimiter='\\t')\n",
    "    writer.writerow(('source_uri', 'target_uri'))\n",
    "    ns = '{http://www.w3.org/2005/sparql-results#}'\n",
    "    for event, elem in parser:\n",
    "        assert event == 'end'\n",
    "        if elem.tag == f'{ns}result':\n",
    "            source = elem.findtext(f\"{ns}binding[@name='source']/{ns}uri\")\n",
    "            target = elem.findtext(f\"{ns}binding[@name='target']/{ns}uri\")\n",
    "            source = br_uri_to_id(source)\n",
    "            target = br_uri_to_id(target)\n",
    "            writer.writerow((source, target))\n",
    "            elem.clear()"
   ]
  }
 ],
 "metadata": {
  "anaconda-cloud": {},
  "kernelspec": {
   "display_name": "Python [conda env:opencitations]",
   "language": "python",
   "name": "conda-env-opencitations-py"
  },
  "language_info": {
   "codemirror_mode": {
    "name": "ipython",
    "version": 3
   },
   "file_extension": ".py",
   "mimetype": "text/x-python",
   "name": "python",
   "nbconvert_exporter": "python",
   "pygments_lexer": "ipython3",
   "version": "3.6.2"
  }
 },
 "nbformat": 4,
 "nbformat_minor": 2
}
