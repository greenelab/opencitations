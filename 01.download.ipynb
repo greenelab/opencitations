{
 "cells": [
  {
   "cell_type": "markdown",
   "metadata": {},
   "source": [
    "# Download OpenCitations Data\n",
    "https://doi.org/10.6084/m9.figshare.5255323.v1"
   ]
  },
  {
   "cell_type": "code",
   "execution_count": 1,
   "metadata": {
    "collapsed": true
   },
   "outputs": [],
   "source": [
    "import collections\n",
    "import itertools\n",
    "import pathlib\n",
    "import urllib.request\n",
    "import zipfile\n",
    "import subprocess\n",
    "\n",
    "import pandas\n",
    "import requests"
   ]
  },
  {
   "cell_type": "markdown",
   "metadata": {},
   "source": [
    "## Get list of all figshare files for a specified OpenCitations release"
   ]
  },
  {
   "cell_type": "code",
   "execution_count": 2,
   "metadata": {
    "collapsed": true
   },
   "outputs": [],
   "source": [
    "def get_fishare_files(figshare_id):\n",
    "    url = f'https://api.figshare.com/v2/articles/{figshare_id}'\n",
    "    response = requests.get(url)\n",
    "    article = response.json()\n",
    "    files = article['files']\n",
    "    for f in files:\n",
    "        row = {\n",
    "            'doi': article['doi'],\n",
    "            'figshare_id': figshare_id,\n",
    "            'file_name': f['name'],\n",
    "            'download_url': f['download_url'],\n",
    "        }\n",
    "        yield collections.OrderedDict(row)"
   ]
  },
  {
   "cell_type": "code",
   "execution_count": 3,
   "metadata": {},
   "outputs": [
    {
     "data": {
      "text/html": [
       "<div>\n",
       "<style>\n",
       "    .dataframe thead tr:only-child th {\n",
       "        text-align: right;\n",
       "    }\n",
       "\n",
       "    .dataframe thead th {\n",
       "        text-align: left;\n",
       "    }\n",
       "\n",
       "    .dataframe tbody tr th {\n",
       "        vertical-align: top;\n",
       "    }\n",
       "</style>\n",
       "<table border=\"1\" class=\"dataframe\">\n",
       "  <thead>\n",
       "    <tr style=\"text-align: right;\">\n",
       "      <th></th>\n",
       "      <th>doi</th>\n",
       "      <th>figshare_id</th>\n",
       "      <th>file_name</th>\n",
       "      <th>download_url</th>\n",
       "    </tr>\n",
       "  </thead>\n",
       "  <tbody>\n",
       "    <tr>\n",
       "      <th>0</th>\n",
       "      <td>10.6084/m9.figshare.5255386.v1</td>\n",
       "      <td>5255386</td>\n",
       "      <td>LICENSE.txt</td>\n",
       "      <td>https://ndownloader.figshare.com/files/8986366</td>\n",
       "    </tr>\n",
       "    <tr>\n",
       "      <th>1</th>\n",
       "      <td>10.6084/m9.figshare.5255386.v1</td>\n",
       "      <td>5255386</td>\n",
       "      <td>README-ar.txt</td>\n",
       "      <td>https://ndownloader.figshare.com/files/8986369</td>\n",
       "    </tr>\n",
       "  </tbody>\n",
       "</table>\n",
       "</div>"
      ],
      "text/plain": [
       "                              doi  figshare_id      file_name  \\\n",
       "0  10.6084/m9.figshare.5255386.v1      5255386    LICENSE.txt   \n",
       "1  10.6084/m9.figshare.5255386.v1      5255386  README-ar.txt   \n",
       "\n",
       "                                     download_url  \n",
       "0  https://ndownloader.figshare.com/files/8986366  \n",
       "1  https://ndownloader.figshare.com/files/8986369  "
      ]
     },
     "execution_count": 3,
     "metadata": {},
     "output_type": "execute_result"
    }
   ],
   "source": [
    "# Figshare article IDs from \"25 July 2017 Dump\" on http://opencitations.net/download\n",
    "figshare_ids = [\n",
    "    5255386,\n",
    "    5255323,\n",
    "    5255365,\n",
    "    5255368,\n",
    "    5255359,\n",
    "    5255395,\n",
    "    5255215,\n",
    "]\n",
    "\n",
    "files = list(itertools.chain.from_iterable(get_fishare_files(figshare_id) for figshare_id in figshare_ids))\n",
    "figshare_df = pandas.DataFrame(files)\n",
    "path = pathlib.Path('download/figshare-files.tsv')\n",
    "figshare_df.to_csv(path, index=False, sep='\\t')\n",
    "figshare_df.head(2)"
   ]
  },
  {
   "cell_type": "markdown",
   "metadata": {},
   "source": [
    "## Download and extract files\n",
    "\n",
    "This section requires the [Disk ARchive](http://dar.linux.free.fr/) utility to be installed."
   ]
  },
  {
   "cell_type": "code",
   "execution_count": 4,
   "metadata": {
    "collapsed": true
   },
   "outputs": [],
   "source": [
    "release_date = '2017-07-25'\n",
    "download_files = [\n",
    "    f'{release_date}-corpus_id.zip',\n",
    "    f'{release_date}-corpus_br.zip',\n",
    "]"
   ]
  },
  {
   "cell_type": "code",
   "execution_count": 5,
   "metadata": {},
   "outputs": [
    {
     "name": "stdout",
     "output_type": "stream",
     "text": [
      "Beginning process to create download/2017-07-25-corpus_br\n"
     ]
    }
   ],
   "source": [
    "for name in download_files:\n",
    "    # Configure\n",
    "    info = figshare_df.query('file_name == @name').iloc[0]\n",
    "    path = pathlib.Path(f'download/{name}')\n",
    "    directory = path.with_suffix('')\n",
    "    print(f'Beginning process to create {directory}')\n",
    "\n",
    "    # Download file from figshare\n",
    "    if not path.is_file():\n",
    "        urllib.request.urlretrieve(info.download_url, path)\n",
    "\n",
    "    # Unzip file\n",
    "    with zipfile.ZipFile(path) as zip_file:\n",
    "        zip_file.extractall(directory)\n",
    "\n",
    "    # Use dar to reconstruct filesystem\n",
    "    args = [\n",
    "        'dar',  # http://dar.linux.free.fr/\n",
    "        '-O',  # do not consider user and group ownership\n",
    "        '-x',  # extracts files from the archive\n",
    "        directory.name,\n",
    "    ]\n",
    "    process = subprocess.run(args, stderr=subprocess.PIPE, cwd=directory)\n",
    "    assert process.returncode == 0\n",
    "    # Delete DAR files which have been extracted\n",
    "    for dar_path in directory.glob('*.dar'):\n",
    "        dar_path.unlink()"
   ]
  }
 ],
 "metadata": {
  "anaconda-cloud": {},
  "kernelspec": {
   "display_name": "Python [conda env:opencitations]",
   "language": "python",
   "name": "conda-env-opencitations-py"
  },
  "language_info": {
   "codemirror_mode": {
    "name": "ipython",
    "version": 3
   },
   "file_extension": ".py",
   "mimetype": "text/x-python",
   "name": "python",
   "nbconvert_exporter": "python",
   "pygments_lexer": "ipython3",
   "version": "3.6.2"
  }
 },
 "nbformat": 4,
 "nbformat_minor": 2
}
