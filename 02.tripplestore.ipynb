{
 "cells": [
  {
   "cell_type": "markdown",
   "metadata": {},
   "source": [
    "# Extract data from triplestore\n",
    "\n",
    "https://stackoverflow.com/a/38611435\n",
    "http://opencitations.net/corpus\n",
    "http://opencitations.net/sparql\n",
    "http://opencitations.net/model"
   ]
  },
  {
   "cell_type": "raw",
   "metadata": {
    "collapsed": true
   },
   "source": [
    "curl --request POST http://opencitations.net/sparql \\\n",
    "  --data-urlencode 'query=SELECT * WHERE{ ?s p ?o } LIMIT 1' \\\n",
    "  --data-urlencode 'format=json'\n"
   ]
  },
  {
   "cell_type": "markdown",
   "metadata": {},
   "source": [
    "```sparql\n",
    "PREFIX cito: <http://purl.org/spar/cito/>\n",
    "PREFIX dcterms: <http://purl.org/dc/terms/>\n",
    "PREFIX datacite: <http://purl.org/spar/datacite/>\n",
    "PREFIX literal: <http://www.essepuntato.it/2010/06/literalreification/>\n",
    "PREFIX biro: <http://purl.org/spar/biro/>\n",
    "PREFIX frbr: <http://purl.org/vocab/frbr/core#>\n",
    "PREFIX c4o: <http://purl.org/spar/c4o/>\n",
    "SELECT ?source ?target ?source_id WHERE {\n",
    "\t?source cito:cites ?target .\n",
    "\tOPTIONAL { ?source datacite:hasIdentifier ?source_id }\n",
    "}\n",
    "LIMIT 1\n",
    "```"
   ]
  },
  {
   "cell_type": "markdown",
   "metadata": {},
   "source": [
    "```sparql\n",
    "PREFIX cito: <http://purl.org/spar/cito/>\n",
    "PREFIX dcterms: <http://purl.org/dc/terms/>\n",
    "PREFIX datacite: <http://purl.org/spar/datacite/>\n",
    "PREFIX literal: <http://www.essepuntato.it/2010/06/literalreification/>\n",
    "PREFIX biro: <http://purl.org/spar/biro/>\n",
    "PREFIX frbr: <http://purl.org/vocab/frbr/core#>\n",
    "PREFIX c4o: <http://purl.org/spar/c4o/>\n",
    "SELECT ?source ?target WHERE {\n",
    "\t?source cito:cites ?target .\n",
    "}\n",
    "LIMIT 1\n",
    "```"
   ]
  },
  {
   "cell_type": "code",
   "execution_count": 2,
   "metadata": {},
   "outputs": [],
   "source": [
    "import requests"
   ]
  },
  {
   "cell_type": "code",
   "execution_count": 21,
   "metadata": {
    "collapsed": true
   },
   "outputs": [],
   "source": [
    "query = '''\n",
    "PREFIX cito: <http://purl.org/spar/cito/>\n",
    "PREFIX dcterms: <http://purl.org/dc/terms/>\n",
    "PREFIX datacite: <http://purl.org/spar/datacite/>\n",
    "PREFIX literal: <http://www.essepuntato.it/2010/06/literalreification/>\n",
    "PREFIX biro: <http://purl.org/spar/biro/>\n",
    "PREFIX frbr: <http://purl.org/vocab/frbr/core#>\n",
    "PREFIX c4o: <http://purl.org/spar/c4o/>\n",
    "SELECT ?source ?target WHERE {\n",
    "    ?source cito:cites ?target .\n",
    "}\n",
    "LIMIT 5\n",
    "'''"
   ]
  },
  {
   "cell_type": "markdown",
   "metadata": {},
   "source": [
    "# Get curl command to download all cites"
   ]
  },
  {
   "cell_type": "code",
   "execution_count": 41,
   "metadata": {},
   "outputs": [],
   "source": [
    "import urllib.parse\n",
    "import urllib.request"
   ]
  },
  {
   "cell_type": "code",
   "execution_count": 43,
   "metadata": {},
   "outputs": [
    {
     "name": "stdout",
     "output_type": "stream",
     "text": [
      "http://localhost:3000/blazegraph/sparql?query=%0APREFIX+cito%3A+%3Chttp%3A%2F%2Fpurl.org%2Fspar%2Fcito%2F%3E%0APREFIX+dcterms%3A+%3Chttp%3A%2F%2Fpurl.org%2Fdc%2Fterms%2F%3E%0APREFIX+datacite%3A+%3Chttp%3A%2F%2Fpurl.org%2Fspar%2Fdatacite%2F%3E%0APREFIX+literal%3A+%3Chttp%3A%2F%2Fwww.essepuntato.it%2F2010%2F06%2Fliteralreification%2F%3E%0APREFIX+biro%3A+%3Chttp%3A%2F%2Fpurl.org%2Fspar%2Fbiro%2F%3E%0APREFIX+frbr%3A+%3Chttp%3A%2F%2Fpurl.org%2Fvocab%2Ffrbr%2Fcore%23%3E%0APREFIX+c4o%3A+%3Chttp%3A%2F%2Fpurl.org%2Fspar%2Fc4o%2F%3E%0ASELECT+%3Fsource+%3Ftarget+WHERE+%7B%0A++++%3Fsource+cito%3Acites+%3Ftarget+.%0A%7D%0A&format=xml\n"
     ]
    }
   ],
   "source": [
    "url = 'http://localhost:3000/blazegraph/sparql'\n",
    "query = '''\n",
    "PREFIX cito: <http://purl.org/spar/cito/>\n",
    "PREFIX dcterms: <http://purl.org/dc/terms/>\n",
    "PREFIX datacite: <http://purl.org/spar/datacite/>\n",
    "PREFIX literal: <http://www.essepuntato.it/2010/06/literalreification/>\n",
    "PREFIX biro: <http://purl.org/spar/biro/>\n",
    "PREFIX frbr: <http://purl.org/vocab/frbr/core#>\n",
    "PREFIX c4o: <http://purl.org/spar/c4o/>\n",
    "SELECT ?source ?target WHERE {\n",
    "    ?source cito:cites ?target .\n",
    "}\n",
    "'''\n",
    "params = {\n",
    "    'query': query,\n",
    "    'format': 'xml',\n",
    "}"
   ]
  },
  {
   "cell_type": "code",
   "execution_count": 45,
   "metadata": {},
   "outputs": [
    {
     "name": "stdout",
     "output_type": "stream",
     "text": [
      "\n",
      "curl \\\n",
      "  --output cites.xml \\\n",
      "  --request POST \\\n",
      "  http://localhost:3000/blazegraph/sparql?query=%0APREFIX+cito%3A+%3Chttp%3A%2F%2Fpurl.org%2Fspar%2Fcito%2F%3E%0APREFIX+dcterms%3A+%3Chttp%3A%2F%2Fpurl.org%2Fdc%2Fterms%2F%3E%0APREFIX+datacite%3A+%3Chttp%3A%2F%2Fpurl.org%2Fspar%2Fdatacite%2F%3E%0APREFIX+literal%3A+%3Chttp%3A%2F%2Fwww.essepuntato.it%2F2010%2F06%2Fliteralreification%2F%3E%0APREFIX+biro%3A+%3Chttp%3A%2F%2Fpurl.org%2Fspar%2Fbiro%2F%3E%0APREFIX+frbr%3A+%3Chttp%3A%2F%2Fpurl.org%2Fvocab%2Ffrbr%2Fcore%23%3E%0APREFIX+c4o%3A+%3Chttp%3A%2F%2Fpurl.org%2Fspar%2Fc4o%2F%3E%0ASELECT+%3Fsource+%3Ftarget+WHERE+%7B%0A++++%3Fsource+cito%3Acites+%3Ftarget+.%0A%7D%0A&format=xml?query=%0APREFIX+cito%3A+%3Chttp%3A%2F%2Fpurl.org%2Fspar%2Fcito%2F%3E%0APREFIX+dcterms%3A+%3Chttp%3A%2F%2Fpurl.org%2Fdc%2Fterms%2F%3E%0APREFIX+datacite%3A+%3Chttp%3A%2F%2Fpurl.org%2Fspar%2Fdatacite%2F%3E%0APREFIX+literal%3A+%3Chttp%3A%2F%2Fwww.essepuntato.it%2F2010%2F06%2Fliteralreification%2F%3E%0APREFIX+biro%3A+%3Chttp%3A%2F%2Fpurl.org%2Fspar%2Fbiro%2F%3E%0APREFIX+frbr%3A+%3Chttp%3A%2F%2Fpurl.org%2Fvocab%2Ffrbr%2Fcore%23%3E%0APREFIX+c4o%3A+%3Chttp%3A%2F%2Fpurl.org%2Fspar%2Fc4o%2F%3E%0ASELECT+%3Fsource+%3Ftarget+WHERE+%7B%0A++++%3Fsource+cito%3Acites+%3Ftarget+.%0A%7D%0A&format=xml\n",
      "\n"
     ]
    }
   ],
   "source": [
    "command = rf'''\n",
    "curl \\\n",
    "  --output cites.xml \\\n",
    "  --request POST \\\n",
    "  {url}?{urllib.parse.urlencode(params)}\n",
    "'''\n",
    "print(command)"
   ]
  },
  {
   "cell_type": "code",
   "execution_count": 36,
   "metadata": {},
   "outputs": [
    {
     "name": "stdout",
     "output_type": "stream",
     "text": [
      "<?xml version='1.0' encoding='UTF-8'?>\n",
      "<sparql xmlns='http://www.w3.org/2005/sparql-results#'>\n",
      "\t<head>\n",
      "\t\t<variable name='source'/>\n",
      "\t\t<variable name='target'/>\n",
      "\t</head>\n",
      "\t<results>\n",
      "\t\t<result>\n",
      "\t\t\t<binding name='source'>\n",
      "\t\t\t\t<uri>https://w3id.org/oc/corpus/br/1788297</uri>\n",
      "\t\t\t</binding>\n",
      "\t\t\t<binding name='target'>\n",
      "\t\t\t\t<uri>https://w3id.org/oc/corpus/br/1</uri>\n",
      "\t\t\t</binding>\n",
      "\t\t</result>\n",
      "\t\t<result>\n",
      "\t\t\t<binding name='source'>\n",
      "\t\t\t\t<uri>https://w3id.org/oc/corpus/br/2723856</uri>\n",
      "\t\t\t</binding>\n",
      "\t\t\t<binding name='target'>\n",
      "\t\t\t\t<uri>https://w3id.org/oc/corpus/br/1</uri>\n",
      "\t\t\t</binding>\n",
      "\t\t</result>\n",
      "\t\t<result>\n",
      "\t\t\t<binding name='source'>\n",
      "\t\t\t\t<uri>https://w3id.org/oc/corpus/br/3515019</uri>\n",
      "\t\t\t</binding>\n",
      "\t\t\t<binding name='target'>\n",
      "\t\t\t\t<uri>https://w3id.org/oc/corpus/br/1</uri>\n",
      "\t\t\t</binding>\n",
      "\t\t</result>\n",
      "\t\t<result>\n",
      "\t\t\t<binding name='source'>\n",
      "\t\t\t\t<uri>https://w3id.org/oc/corpus/br/3883104</uri>\n",
      "\t\t\t</binding>\n",
      "\t\t\t<binding name='target'>\n",
      "\t\t\t\t<uri>https://w3id.org/oc/corpus/br/1</uri>\n",
      "\t\t\t</binding>\n",
      "\t\t</result>\n",
      "\t\t<result>\n",
      "\t\t\t<binding name='source'>\n",
      "\t\t\t\t<uri>https://w3id.org/oc/corpus/br/1</uri>\n",
      "\t\t\t</binding>\n",
      "\t\t\t<binding name='target'>\n",
      "\t\t\t\t<uri>https://w3id.org/oc/corpus/br/10</uri>\n",
      "\t\t\t</binding>\n",
      "\t\t</result>\n",
      "\t</results>\n",
      "</sparql>\n",
      "\n"
     ]
    }
   ],
   "source": [
    "url = 'http://localhost:3000/blazegraph/sparql'\n",
    "params = {\n",
    "    'query': query,\n",
    "    'format': 'xml',\n",
    "}\n",
    "response = requests.get(url, params)\n",
    "print(response.text)"
   ]
  },
  {
   "cell_type": "code",
   "execution_count": 28,
   "metadata": {},
   "outputs": [
    {
     "name": "stdout",
     "output_type": "stream",
     "text": [
      "<?xml version='1.0' encoding='UTF-8'?>\n",
      "<sparql xmlns='http://www.w3.org/2005/sparql-results#'>\n",
      "\t<head>\n",
      "\t\t<variable name='source'/>\n",
      "\t\t<variable name='target'/>\n",
      "\t</head>\n",
      "\t<results>\n",
      "\t\t<result>\n",
      "\t\t\t<binding name='source'>\n",
      "\t\t\t\t<uri>https://w3id.org/oc/corpus/br/5840870</uri>\n",
      "\t\t\t</binding>\n",
      "\t\t\t<binding name='target'>\n",
      "\t\t\t\t<uri>https://w3id.org/oc/corpus/br/14</uri>\n",
      "\t\t\t</binding>\n",
      "\t\t</result>\n",
      "\t\t<result>\n",
      "\t\t\t<binding name='source'>\n",
      "\t\t\t\t<uri>https://w3id.org/oc/corpus/br/5919119</uri>\n",
      "\t\t\t</binding>\n",
      "\t\t\t<binding name='target'>\n",
      "\t\t\t\t<uri>https://w3id.org/oc/corpus/br/14</uri>\n",
      "\t\t\t</binding>\n",
      "\t\t</result>\n",
      "\t\t<result>\n",
      "\t\t\t<binding name='source'>\n",
      "\t\t\t\t<uri>https://w3id.org/oc/corpus/br/5992415</uri>\n",
      "\t\t\t</binding>\n",
      "\t\t\t<binding name='target'>\n",
      "\t\t\t\t<uri>https://w3id.org/oc/corpus/br/14</uri>\n",
      "\t\t\t</binding>\n",
      "\t\t</result>\n",
      "\t\t<result>\n",
      "\t\t\t<binding name='source'>\n",
      "\t\t\t\t<uri>https://w3id.org/oc/corpus/br/6030419</uri>\n",
      "\t\t\t</binding>\n",
      "\t\t\t<binding name='target'>\n",
      "\t\t\t\t<uri>https://w3id.org/oc/corpus/br/14</uri>\n",
      "\t\t\t</binding>\n",
      "\t\t</result>\n",
      "\t\t<result>\n",
      "\t\t\t<binding name='source'>\n",
      "\t\t\t\t<uri>https://w3id.org/oc/corpus/br/6064471</uri>\n",
      "\t\t\t</binding>\n",
      "\t\t\t<binding name='target'>\n",
      "\t\t\t\t<uri>https://w3id.org/oc/corpus/br/14</uri>\n",
      "\t\t\t</binding>\n",
      "\t\t</result>\n",
      "\t</results>\n",
      "</sparql>\n",
      "\n"
     ]
    }
   ],
   "source": []
  },
  {
   "cell_type": "code",
   "execution_count": 24,
   "metadata": {},
   "outputs": [
    {
     "data": {
      "text/plain": [
       "{'head': {'vars': ['source', 'target']},\n",
       " 'results': {'bindings': [{'source': {'type': 'uri',\n",
       "     'value': 'https://w3id.org/oc/corpus/br/1788297'},\n",
       "    'target': {'type': 'uri', 'value': 'https://w3id.org/oc/corpus/br/1'}},\n",
       "   {'source': {'type': 'uri',\n",
       "     'value': 'https://w3id.org/oc/corpus/br/2723856'},\n",
       "    'target': {'type': 'uri', 'value': 'https://w3id.org/oc/corpus/br/1'}},\n",
       "   {'source': {'type': 'uri',\n",
       "     'value': 'https://w3id.org/oc/corpus/br/3515019'},\n",
       "    'target': {'type': 'uri', 'value': 'https://w3id.org/oc/corpus/br/1'}},\n",
       "   {'source': {'type': 'uri',\n",
       "     'value': 'https://w3id.org/oc/corpus/br/3883104'},\n",
       "    'target': {'type': 'uri', 'value': 'https://w3id.org/oc/corpus/br/1'}},\n",
       "   {'source': {'type': 'uri', 'value': 'https://w3id.org/oc/corpus/br/1'},\n",
       "    'target': {'type': 'uri', 'value': 'https://w3id.org/oc/corpus/br/10'}}]}}"
      ]
     },
     "execution_count": 24,
     "metadata": {},
     "output_type": "execute_result"
    }
   ],
   "source": [
    "response.json()"
   ]
  },
  {
   "cell_type": "code",
   "execution_count": null,
   "metadata": {
    "collapsed": true
   },
   "outputs": [],
   "source": []
  }
 ],
 "metadata": {
  "anaconda-cloud": {},
  "kernelspec": {
   "display_name": "Python [conda env:opencitations]",
   "language": "python",
   "name": "conda-env-opencitations-py"
  },
  "language_info": {
   "codemirror_mode": {
    "name": "ipython",
    "version": 3
   },
   "file_extension": ".py",
   "mimetype": "text/x-python",
   "name": "python",
   "nbconvert_exporter": "python",
   "pygments_lexer": "ipython3",
   "version": "3.6.2"
  }
 },
 "nbformat": 4,
 "nbformat_minor": 2
}
